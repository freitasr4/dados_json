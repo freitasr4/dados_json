{
 "cells": [
  {
   "cell_type": "markdown",
   "metadata": {},
   "source": [
    "# Exercicios Modulo 5. JSON (Soluções)\n",
    "\n",
    "Considerações a ter em conta: \n",
    "\n",
    "* Guardar odocumento de soluções comoseguinte formatopara entrega: __M2_01_nome_apelido1_apelido2__\n",
    "* Realizar os exercicios com as ferramentas utilizadas nas aulas. \n",
    "* Comentar o código\n",
    "* Utilizar nomesde variáveis apropriados. Se vamosguardar umanota, chamamos a essa variável nota, não n oux."
   ]
  },
  {
   "cell_type": "markdown",
   "metadata": {},
   "source": [
    "# JSON (JavaScript Object Notation)"
   ]
  },
  {
   "cell_type": "markdown",
   "metadata": {},
   "source": [
    "1) Tenha em consideração o seguinte JSON String:\n",
    "\n",
    "{\"chefe_projeto\":{\"Nome\":\"Juan\",\"Idade\":28,\"Experiência\": [\"Gestão\",\"Finanças\",\"Basesdedados\"],\"Residência\": \n",
    "\"Madrid\",\"HorasProjeto\":3500},\"funcionários\":[{\"Nome\":\"Elena\",\"Idade\":26,\"Experiência\":\n",
    "[\"JavaScript\",\"Python\"],\"Residência\":\"Madrid\",\"HorasProjeto\":500},{\"Nome\":\"Luis\",\"Idade\":31,\"Experiência\": \n",
    "[\"Django\",\"Flask\",\"Pyramid\"],\"Residência\":\"Barcelona\",\"HorasProjeto\":1100}]}\n",
    "\n",
    "\n",
    "* Se necessário, utilizar um visualizador de JSON para o entender.\n",
    "* O objetivo é criar um dicionário com todos os dados e estruturas internas necessárias para que seja igual ao JSON String.\n",
    "* Criar estruturas mais pequenas até que se chegue a formar o mesmo JSON string que vemos acima.\n",
    "* Armazenar esta estrutura (o dicionário) numa variável.\n",
    "* Comprovar o seu tipo e mostrar por ecrã.\n",
    "* Criar duas variáveis: horas_funcionários e horas_chefe\n",
    "* Extrair as horas do chefe e introduzir na sua variável.\n",
    "* Criar um ciclo que percorra a totalidade de funcionários que tem na estrutura e para cada funcionário somar as suas horas na sua variável correspondente.\n",
    "* Somar todas as horas e imprimir."
   ]
  },
  {
   "cell_type": "code",
   "execution_count": 7,
   "metadata": {},
   "outputs": [],
   "source": [
    "import json"
   ]
  },
  {
   "cell_type": "code",
   "execution_count": 1,
   "metadata": {},
   "outputs": [],
   "source": [
    "dados = {\n",
    "    \"chefe_projeto\": {\n",
    "        \"Nome\": \"João\",\n",
    "        \"Idade\": 28,\n",
    "        \"Experiência\": [\"Gestão\", \"Finanças\", \"Bases de dados\"],\n",
    "        \"Residência\": \"Porto\",\n",
    "        \"HorasProjeto\": 3500\n",
    "    },\n",
    "    \"funcionários\": [\n",
    "        {\n",
    "            \"Nome\": \"Helena\",\n",
    "            \"Idade\": 26,\n",
    "            \"Experiência\": [\"JavaScript\", \"Python\"],\n",
    "            \"Residência\": \"Faro\",\n",
    "            \"HorasProjeto\": 500\n",
    "        },\n",
    "        {\n",
    "            \"Nome\": \"Luis\",\n",
    "            \"Idade\": 31,\n",
    "            \"Experiência\": [\"Django\", \"Flask\", \"Pyramid\"],\n",
    "            \"Residência\": \"Lisboa\",\n",
    "            \"HorasProjeto\": 1100\n",
    "        }\n",
    "    ]\n",
    "}"
   ]
  },
  {
   "cell_type": "code",
   "execution_count": 2,
   "metadata": {},
   "outputs": [
    {
     "name": "stdout",
     "output_type": "stream",
     "text": [
      "<class 'dict'>\n"
     ]
    }
   ],
   "source": [
    "print(type(dados))"
   ]
  },
  {
   "cell_type": "code",
   "execution_count": 3,
   "metadata": {},
   "outputs": [],
   "source": [
    "horas_funcionários = 0\n",
    "horas_chefe = dados[\"chefe_projeto\"][\"HorasProjeto\"]"
   ]
  },
  {
   "cell_type": "code",
   "execution_count": 4,
   "metadata": {},
   "outputs": [],
   "source": [
    "for funcionário in dados[\"funcionários\"]:\n",
    "    horas_funcionários += funcionário[\"HorasProjeto\"]"
   ]
  },
  {
   "cell_type": "code",
   "execution_count": 5,
   "metadata": {},
   "outputs": [
    {
     "name": "stdout",
     "output_type": "stream",
     "text": [
      "5100\n"
     ]
    }
   ],
   "source": [
    "total_horas = horas_chefe + horas_funcionários\n",
    "print(total_horas)"
   ]
  },
  {
   "cell_type": "markdown",
   "metadata": {},
   "source": [
    "2) No exercício anterior trabalhou-se com um dicionário que nós mesmos/as criamos. Converter para um formato JSON String, imprimir o seu tipo e os seus dados. Para que serve este formato?"
   ]
  },
  {
   "cell_type": "code",
   "execution_count": 8,
   "metadata": {},
   "outputs": [],
   "source": [
    "json_string = json.dumps(dados)"
   ]
  },
  {
   "cell_type": "code",
   "execution_count": 9,
   "metadata": {},
   "outputs": [
    {
     "name": "stdout",
     "output_type": "stream",
     "text": [
      "<class 'str'>\n",
      "{\"chefe_projeto\": {\"Nome\": \"Jo\\u00e3o\", \"Idade\": 28, \"Experi\\u00eancia\": [\"Gest\\u00e3o\", \"Finan\\u00e7as\", \"Bases de dados\"], \"Resid\\u00eancia\": \"Porto\", \"HorasProjeto\": 3500}, \"funcion\\u00e1rios\": [{\"Nome\": \"Helena\", \"Idade\": 26, \"Experi\\u00eancia\": [\"JavaScript\", \"Python\"], \"Resid\\u00eancia\": \"Faro\", \"HorasProjeto\": 500}, {\"Nome\": \"Luis\", \"Idade\": 31, \"Experi\\u00eancia\": [\"Django\", \"Flask\", \"Pyramid\"], \"Resid\\u00eancia\": \"Lisboa\", \"HorasProjeto\": 1100}]}\n"
     ]
    }
   ],
   "source": [
    "print(type(json_string))\n",
    "print(json_string)"
   ]
  },
  {
   "cell_type": "markdown",
   "metadata": {},
   "source": [
    "3) Por vezes encontramos JSON que se tem de modificar. Para isso, temos de descodificá-los, fazer as modificações pertinentes e voltar a codificá-los para os deixar como JSON de novo. No seguinte exemplo podemos ver que há alguns erros:\n",
    "\n",
    "* Ao Superman falta-lhe como poder \"Voar\"\n",
    "* No Batman, a idade é 35, não 350\n",
    "* No Batman, retire-lhe o poder de \"Raio laser\"\n",
    "* No Wonder Woman falta-lhe o poder \"Laço da verdade\"\n",
    "\n",
    "Depois de corrigir, sem criar um novo, voltar a transformar estes dados num JSON String"
   ]
  },
  {
   "cell_type": "code",
   "execution_count": null,
   "metadata": {},
   "outputs": [],
   "source": [
    "# NÃO UTILIZE ESTE BLOCO\n",
    "\n",
    "superherois = {\n",
    "\t\"nomedaEquipa\": \"Super Hero Squad\",\n",
    "\t\"cidade\": \"Metro City\",\n",
    "\t\"formado\": 2016,\n",
    "\t\"baseSecreta\": \"Super Tower\",\n",
    "\t\"activo\": \"Sim\",\n",
    "\t\"membros\": [\n",
    "\t\t{\n",
    "\t\t\t\"nome\": \"SuperMan\",\n",
    "\t\t\t\"idade\": 29,\n",
    "\t\t\t\"identidadeSecreta\": \"Clart Kent\",\n",
    "\t\t\t\"poderes\": [\n",
    "\t\t\t\t\"Super força\",\n",
    "\t\t\t\t\"Super velocidade\",\n",
    "\t\t\t\t\"Raio laser\"\n",
    "\t\t\t]\n",
    "\t\t},\n",
    "\t\t{\n",
    "\t\t\t\"nome\": \"Batman\",\n",
    "\t\t\t\"idade\": 350,\n",
    "\t\t\t\"identidadeSecreta\": \"Bruce Wayne\",\n",
    "\t\t\t\"poderes\": [\n",
    "\t\t\t\t\"Detective\",\n",
    "\t\t\t\t\"Dinheiro\",\n",
    "\t\t\t\t\"Raio laser\"\n",
    "\t\t\t]\n",
    "\t\t},\n",
    "\t\t{\n",
    "\t\t\t\"nome\": \"Wonder Woman\",\n",
    "\t\t\t\"idade\": 900,\n",
    "\t\t\t\"identidadeSecreta\": \"Diana de Temiscira\",\n",
    "\t\t\t\"poderes\": [\n",
    "\t\t\t\t\"Super força\",\n",
    "\t\t\t\t\"Super velocidade\"\n",
    "\t\t\t]\n",
    "\t\t}\n",
    "\t]\n",
    "}"
   ]
  },
  {
   "cell_type": "code",
   "execution_count": 10,
   "metadata": {},
   "outputs": [
    {
     "name": "stdout",
     "output_type": "stream",
     "text": [
      "{\"nomedaEquipa\": \"Super Hero Squad\", \"cidade\": \"Metro City\", \"formado\": 2016, \"baseSecreta\": \"Super Tower\", \"activo\": \"Sim\", \"membros\": [{\"nome\": \"SuperMan\", \"idade\": 29, \"identidadeSecreta\": \"Clark Kent\", \"poderes\": [\"Super for\\u00e7a\", \"Super velocidade\", \"Raio laser\"]}, {\"nome\": \"Batman\", \"idade\": 35, \"identidadeSecreta\": \"Bruce Wayne\", \"poderes\": [\"Detective\", \"Dinheiro\"]}, {\"nome\": \"Wonder Woman\", \"idade\": 900, \"identidadeSecreta\": \"Diana de Themiscira\", \"poderes\": [\"Super for\\u00e7a\", \"Super velocidade\", \"La\\u00e7o da verdade\"]}]}\n"
     ]
    }
   ],
   "source": [
    "import json\n",
    "\n",
    "superherois = {\n",
    "\t\"nomedaEquipa\": \"Super Hero Squad\",\n",
    "\t\"cidade\": \"Metro City\",\n",
    "\t\"formado\": 2016,\n",
    "\t\"baseSecreta\": \"Super Tower\",\n",
    "\t\"activo\": \"Sim\",\n",
    "\t\"membros\": [\n",
    "\t\t{\n",
    "\t\t\t\"nome\": \"SuperMan\",\n",
    "\t\t\t\"idade\": 29,\n",
    "\t\t\t\"identidadeSecreta\": \"Clark Kent\",\n",
    "\t\t\t\"poderes\": [\n",
    "\t\t\t\t\"Super força\",\n",
    "\t\t\t\t\"Super velocidade\",\n",
    "\t\t\t\t\"Raio laser\"\n",
    "\t\t\t]\n",
    "\t\t},\n",
    "\t\t{\n",
    "\t\t\t\"nome\": \"Batman\",\n",
    "\t\t\t\"idade\": 35,\n",
    "\t\t\t\"identidadeSecreta\": \"Bruce Wayne\",\n",
    "\t\t\t\"poderes\": [\n",
    "\t\t\t\t\"Detective\",\n",
    "\t\t\t\t\"Dinheiro\"\n",
    "\t\t\t]\n",
    "\t\t},\n",
    "\t\t{\n",
    "\t\t\t\"nome\": \"Wonder Woman\",\n",
    "\t\t\t\"idade\": 900,\n",
    "\t\t\t\"identidadeSecreta\": \"Diana de Themiscira\",\n",
    "\t\t\t\"poderes\": [\n",
    "\t\t\t\t\"Super força\",\n",
    "\t\t\t\t\"Super velocidade\",\n",
    "\t\t\t\t\"Laço da verdade\"\n",
    "\t\t\t]\n",
    "\t\t}\n",
    "\t]\n",
    "}\n",
    "\n",
    "superherois_json = json.dumps(superherois)\n",
    "print(superherois_json)\n"
   ]
  },
  {
   "cell_type": "markdown",
   "metadata": {},
   "source": [
    "4) Com base no exercício anterior, modificar a estrutura de **super_herois** para conseguir que **membros** tenham dois ramos: \"membrosAtivos\" e \"membrosInativos\", onde cada um destes ramos, armazenem os heróis que estão no ativo e os que não. Neste caso, introduzimos SuperMan e WonderWoman na lista de ativos e Batman na de inativos. Esta modificação podemos fazê-la como quisermos: ou programando as estruturas de dados e adicionar ao JSON ou fazer a alteração diretamente no JSON. Ao finalizar, podemos comprovar o nosso JSON num visualizador online.(http://jsonviewer.stack.hu/)"
   ]
  },
  {
   "cell_type": "code",
   "execution_count": 12,
   "metadata": {},
   "outputs": [],
   "source": [
    "superherois[\"membrosAtivos\"] = []\n",
    "superherois[\"membrosInativos\"] = []\n",
    "\n",
    "for membro in superherois[\"membros\"]:\n",
    "    if membro[\"nome\"] in [\"SuperMan\", \"Wonder Woman\"]:\n",
    "        superherois[\"membrosAtivos\"].append(membro)\n",
    "    else:\n",
    "        superherois[\"membrosInativos\"].append(membro)"
   ]
  },
  {
   "cell_type": "code",
   "execution_count": 13,
   "metadata": {},
   "outputs": [
    {
     "data": {
      "text/plain": [
       "[{'nome': 'SuperMan',\n",
       "  'idade': 29,\n",
       "  'identidadeSecreta': 'Clark Kent',\n",
       "  'poderes': ['Super força', 'Super velocidade', 'Raio laser']},\n",
       " {'nome': 'Batman',\n",
       "  'idade': 35,\n",
       "  'identidadeSecreta': 'Bruce Wayne',\n",
       "  'poderes': ['Detective', 'Dinheiro']},\n",
       " {'nome': 'Wonder Woman',\n",
       "  'idade': 900,\n",
       "  'identidadeSecreta': 'Diana de Themiscira',\n",
       "  'poderes': ['Super força', 'Super velocidade', 'Laço da verdade']}]"
      ]
     },
     "execution_count": 13,
     "metadata": {},
     "output_type": "execute_result"
    }
   ],
   "source": [
    "superherois.pop(\"membros\")"
   ]
  },
  {
   "cell_type": "code",
   "execution_count": 14,
   "metadata": {},
   "outputs": [
    {
     "name": "stdout",
     "output_type": "stream",
     "text": [
      "{\"nomedaEquipa\": \"Super Hero Squad\", \"cidade\": \"Metro City\", \"formado\": 2016, \"baseSecreta\": \"Super Tower\", \"activo\": \"Sim\", \"membrosAtivos\": [{\"nome\": \"SuperMan\", \"idade\": 29, \"identidadeSecreta\": \"Clark Kent\", \"poderes\": [\"Super for\\u00e7a\", \"Super velocidade\", \"Raio laser\"]}, {\"nome\": \"Wonder Woman\", \"idade\": 900, \"identidadeSecreta\": \"Diana de Themiscira\", \"poderes\": [\"Super for\\u00e7a\", \"Super velocidade\", \"La\\u00e7o da verdade\"]}], \"membrosInativos\": [{\"nome\": \"Batman\", \"idade\": 35, \"identidadeSecreta\": \"Bruce Wayne\", \"poderes\": [\"Detective\", \"Dinheiro\"]}]}\n"
     ]
    }
   ],
   "source": [
    "superherois_json = json.dumps(superherois)\n",
    "print(superherois_json)"
   ]
  },
  {
   "cell_type": "markdown",
   "metadata": {},
   "source": [
    "5) No seguinte código, aceder a um JSON de forma remota. A partir da resposta, fazer o seguinte:\n",
    "\n",
    "* Mostrar o tipo de dados que se recebeu.\n",
    "* Expor os dados recebidos.\n",
    "* Mostrar o número de pessoas que se encontram atualmente na estrutura.\n",
    "* Fazer um ciclo que percorra todas essas pessoas e mostre os seus detalhes (nome, armazém, etc) no qual  se encontra.\n"
   ]
  },
  {
   "cell_type": "code",
   "execution_count": 15,
   "metadata": {},
   "outputs": [],
   "source": [
    "from pip._vendor import requests\n",
    "\n",
    "\n",
    "# API que nos comunica quantas pessoas se encontram atualmente no espaço \n",
    "response = requests.get(\"http://api.open-notify.org/astros.json\")\n",
    "data = response.json()\n",
    "\n",
    "# Completar o exercício."
   ]
  },
  {
   "cell_type": "code",
   "execution_count": 16,
   "metadata": {},
   "outputs": [
    {
     "name": "stdout",
     "output_type": "stream",
     "text": [
      "<class 'dict'>\n"
     ]
    }
   ],
   "source": [
    "print(type(data))"
   ]
  },
  {
   "cell_type": "code",
   "execution_count": 17,
   "metadata": {},
   "outputs": [
    {
     "name": "stdout",
     "output_type": "stream",
     "text": [
      "{'message': 'success', 'people': [{'name': 'Jasmin Moghbeli', 'craft': 'ISS'}, {'name': 'Andreas Mogensen', 'craft': 'ISS'}, {'name': 'Satoshi Furukawa', 'craft': 'ISS'}, {'name': 'Konstantin Borisov', 'craft': 'ISS'}, {'name': 'Oleg Kononenko', 'craft': 'ISS'}, {'name': 'Nikolai Chub', 'craft': 'ISS'}, {'name': \"Loral O'Hara\", 'craft': 'ISS'}], 'number': 7}\n"
     ]
    }
   ],
   "source": [
    "print(data)"
   ]
  },
  {
   "cell_type": "code",
   "execution_count": 18,
   "metadata": {},
   "outputs": [
    {
     "name": "stdout",
     "output_type": "stream",
     "text": [
      "Número de pessoas na estrutura: 7\n"
     ]
    }
   ],
   "source": [
    "print(\"Número de pessoas na estrutura:\", data[\"number\"])"
   ]
  },
  {
   "cell_type": "code",
   "execution_count": 20,
   "metadata": {},
   "outputs": [
    {
     "name": "stdout",
     "output_type": "stream",
     "text": [
      "Nome: Jasmin Moghbeli\n",
      "Na estrutura: ISS\n",
      "----------------------\n",
      "Nome: Andreas Mogensen\n",
      "Na estrutura: ISS\n",
      "----------------------\n",
      "Nome: Satoshi Furukawa\n",
      "Na estrutura: ISS\n",
      "----------------------\n",
      "Nome: Konstantin Borisov\n",
      "Na estrutura: ISS\n",
      "----------------------\n",
      "Nome: Oleg Kononenko\n",
      "Na estrutura: ISS\n",
      "----------------------\n",
      "Nome: Nikolai Chub\n",
      "Na estrutura: ISS\n",
      "----------------------\n",
      "Nome: Loral O'Hara\n",
      "Na estrutura: ISS\n",
      "----------------------\n"
     ]
    }
   ],
   "source": [
    "for person in data[\"people\"]:\n",
    "    print(\"Nome:\", person[\"name\"])\n",
    "    print(\"Na estrutura:\", person[\"craft\"])\n",
    "    print(\"----------------------\")"
   ]
  }
 ],
 "metadata": {
  "anaconda-cloud": {},
  "kernelspec": {
   "display_name": "Python 3 (ipykernel)",
   "language": "python",
   "name": "python3"
  },
  "language_info": {
   "codemirror_mode": {
    "name": "ipython",
    "version": 3
   },
   "file_extension": ".py",
   "mimetype": "text/x-python",
   "name": "python",
   "nbconvert_exporter": "python",
   "pygments_lexer": "ipython3",
   "version": "3.10.9"
  }
 },
 "nbformat": 4,
 "nbformat_minor": 1
}
